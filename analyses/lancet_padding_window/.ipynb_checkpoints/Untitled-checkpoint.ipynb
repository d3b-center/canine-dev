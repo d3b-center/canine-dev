{
 "cells": [
  {
   "cell_type": "markdown",
   "metadata": {},
   "source": [
    "### Runtime plots for lancet using canine samples\n",
    "\n",
    "- Dataframe that has different runtimes for different samples is loaded \n",
    "- Categorical dot plots for all samples shown below"
   ]
  },
  {
   "cell_type": "code",
   "execution_count": 70,
   "metadata": {},
   "outputs": [],
   "source": [
    "import pandas as pd \n",
    "import numpy as np\n",
    "import seaborn as sns\n",
    "import matplotlib.pyplot as plt"
   ]
  },
  {
   "cell_type": "code",
   "execution_count": 71,
   "metadata": {},
   "outputs": [],
   "source": [
    "runtimes= pd.read_csv(\"runtimes.txt\", sep=\"\\t\")"
   ]
  },
  {
   "cell_type": "code",
   "execution_count": 72,
   "metadata": {},
   "outputs": [
    {
     "data": {
      "text/html": [
       "<div>\n",
       "<style scoped>\n",
       "    .dataframe tbody tr th:only-of-type {\n",
       "        vertical-align: middle;\n",
       "    }\n",
       "\n",
       "    .dataframe tbody tr th {\n",
       "        vertical-align: top;\n",
       "    }\n",
       "\n",
       "    .dataframe thead th {\n",
       "        text-align: right;\n",
       "    }\n",
       "</style>\n",
       "<table border=\"1\" class=\"dataframe\">\n",
       "  <thead>\n",
       "    <tr style=\"text-align: right;\">\n",
       "      <th></th>\n",
       "      <th>Sample_name</th>\n",
       "      <th>padding_window</th>\n",
       "      <th>runtime(mins)</th>\n",
       "    </tr>\n",
       "  </thead>\n",
       "  <tbody>\n",
       "    <tr>\n",
       "      <th>0</th>\n",
       "      <td>WHCGBM_0000000011</td>\n",
       "      <td>300-600</td>\n",
       "      <td>76</td>\n",
       "    </tr>\n",
       "    <tr>\n",
       "      <th>1</th>\n",
       "      <td>WHCGBM_0000000011</td>\n",
       "      <td>200-400</td>\n",
       "      <td>31</td>\n",
       "    </tr>\n",
       "    <tr>\n",
       "      <th>2</th>\n",
       "      <td>WHCGBM_0000000011</td>\n",
       "      <td>150-300</td>\n",
       "      <td>19</td>\n",
       "    </tr>\n",
       "    <tr>\n",
       "      <th>3</th>\n",
       "      <td>WHCGBM_0000000011</td>\n",
       "      <td>75-150</td>\n",
       "      <td>13</td>\n",
       "    </tr>\n",
       "    <tr>\n",
       "      <th>4</th>\n",
       "      <td>WHCGBM_0000000013</td>\n",
       "      <td>300-600</td>\n",
       "      <td>60</td>\n",
       "    </tr>\n",
       "    <tr>\n",
       "      <th>5</th>\n",
       "      <td>WHCGBM_0000000013</td>\n",
       "      <td>200-400</td>\n",
       "      <td>36</td>\n",
       "    </tr>\n",
       "    <tr>\n",
       "      <th>6</th>\n",
       "      <td>WHCGBM_0000000013</td>\n",
       "      <td>150-300</td>\n",
       "      <td>21</td>\n",
       "    </tr>\n",
       "    <tr>\n",
       "      <th>7</th>\n",
       "      <td>WHCGBM_0000000013</td>\n",
       "      <td>75-150</td>\n",
       "      <td>20</td>\n",
       "    </tr>\n",
       "    <tr>\n",
       "      <th>8</th>\n",
       "      <td>WHCGBM_0000000006</td>\n",
       "      <td>300-600</td>\n",
       "      <td>94</td>\n",
       "    </tr>\n",
       "    <tr>\n",
       "      <th>9</th>\n",
       "      <td>WHCGBM_0000000006</td>\n",
       "      <td>200-400</td>\n",
       "      <td>42</td>\n",
       "    </tr>\n",
       "    <tr>\n",
       "      <th>10</th>\n",
       "      <td>WHCGBM_0000000006</td>\n",
       "      <td>150-300</td>\n",
       "      <td>20</td>\n",
       "    </tr>\n",
       "    <tr>\n",
       "      <th>11</th>\n",
       "      <td>WHCGBM_0000000006</td>\n",
       "      <td>75-150</td>\n",
       "      <td>13</td>\n",
       "    </tr>\n",
       "    <tr>\n",
       "      <th>12</th>\n",
       "      <td>WHCGBM_0000000004</td>\n",
       "      <td>75-150</td>\n",
       "      <td>9</td>\n",
       "    </tr>\n",
       "    <tr>\n",
       "      <th>13</th>\n",
       "      <td>WHCGBM_0000000004</td>\n",
       "      <td>150-300</td>\n",
       "      <td>17</td>\n",
       "    </tr>\n",
       "    <tr>\n",
       "      <th>14</th>\n",
       "      <td>WHCGBM_0000000004</td>\n",
       "      <td>200-400</td>\n",
       "      <td>28</td>\n",
       "    </tr>\n",
       "    <tr>\n",
       "      <th>15</th>\n",
       "      <td>WHCGBM_0000000004</td>\n",
       "      <td>300-600</td>\n",
       "      <td>69</td>\n",
       "    </tr>\n",
       "    <tr>\n",
       "      <th>16</th>\n",
       "      <td>WHCGBM_0000000010</td>\n",
       "      <td>75-150</td>\n",
       "      <td>13</td>\n",
       "    </tr>\n",
       "    <tr>\n",
       "      <th>17</th>\n",
       "      <td>WHCGBM_0000000010</td>\n",
       "      <td>150-300</td>\n",
       "      <td>27</td>\n",
       "    </tr>\n",
       "    <tr>\n",
       "      <th>18</th>\n",
       "      <td>WHCGBM_0000000010</td>\n",
       "      <td>200-400</td>\n",
       "      <td>46</td>\n",
       "    </tr>\n",
       "  </tbody>\n",
       "</table>\n",
       "</div>"
      ],
      "text/plain": [
       "          Sample_name padding_window  runtime(mins)\n",
       "0   WHCGBM_0000000011        300-600             76\n",
       "1   WHCGBM_0000000011        200-400             31\n",
       "2   WHCGBM_0000000011        150-300             19\n",
       "3   WHCGBM_0000000011         75-150             13\n",
       "4   WHCGBM_0000000013        300-600             60\n",
       "5   WHCGBM_0000000013        200-400             36\n",
       "6   WHCGBM_0000000013        150-300             21\n",
       "7   WHCGBM_0000000013         75-150             20\n",
       "8   WHCGBM_0000000006        300-600             94\n",
       "9   WHCGBM_0000000006        200-400             42\n",
       "10  WHCGBM_0000000006        150-300             20\n",
       "11  WHCGBM_0000000006         75-150             13\n",
       "12  WHCGBM_0000000004         75-150              9\n",
       "13  WHCGBM_0000000004        150-300             17\n",
       "14  WHCGBM_0000000004        200-400             28\n",
       "15  WHCGBM_0000000004        300-600             69\n",
       "16  WHCGBM_0000000010         75-150             13\n",
       "17  WHCGBM_0000000010        150-300             27\n",
       "18  WHCGBM_0000000010        200-400             46"
      ]
     },
     "execution_count": 72,
     "metadata": {},
     "output_type": "execute_result"
    }
   ],
   "source": [
    "runtimes"
   ]
  },
  {
   "cell_type": "code",
   "execution_count": 81,
   "metadata": {},
   "outputs": [
    {
     "data": {
      "image/png": "[encoded data removed]",
      "text/plain": [
       "<Figure size 864x360 with 1 Axes>"
      ]
     },
     "metadata": {
      "needs_background": "light"
     },
     "output_type": "display_data"
    }
   ],
   "source": [
    "plt.figure(figsize=(12,5))\n",
    "runtimeplot = sns.stripplot(x=\"Sample_name\", y=\"runtime(mins)\", hue=\"padding_window\",\n",
    "                   data=runtimes, palette=\"colorblind\", size=10)\n",
    "runtimeplot.axes.set_title(\"Runtimes for lancet based on window and padding size\\n\",fontsize=20)\n",
    "runtimeplot.set_xlabel(\"Sample names\",fontsize=20)\n",
    "runtimeplot.set_ylabel(\"Runtime in mins\",fontsize=20)\n",
    "runtimeplot.set_xticklabels(runtimeplot.get_xticklabels(),rotation=45)\n",
    "plt.savefig('runtime_comparison.png')"
   ]
  },
  {
   "cell_type": "code",
   "execution_count": null,
   "metadata": {},
   "outputs": [],
   "source": [
    "\n"
   ]
  },
  {
   "cell_type": "code",
   "execution_count": null,
   "metadata": {},
   "outputs": [],
   "source": []
  }
 ],
 "metadata": {
  "kernelspec": {
   "display_name": "Python 3",
   "language": "python",
   "name": "python3"
  },
  "language_info": {
   "codemirror_mode": {
    "name": "ipython",
    "version": 3
   },
   "file_extension": ".py",
   "mimetype": "text/x-python",
   "name": "python",
   "nbconvert_exporter": "python",
   "pygments_lexer": "ipython3",
   "version": "3.7.6"
  }
 },
 "nbformat": 4,
 "nbformat_minor": 4
}
