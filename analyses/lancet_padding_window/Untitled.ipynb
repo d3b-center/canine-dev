{
 "cells": [
  {
   "cell_type": "code",
   "execution_count": 59,
   "metadata": {},
   "outputs": [],
   "source": [
    "import pandas as pd"
   ]
  },
  {
   "cell_type": "code",
   "execution_count": 65,
   "metadata": {},
   "outputs": [],
   "source": [
    "vcfcalls = pd.read_csv(\"results/all_samples_with_var_comparison\", header=None, sep=\"\\t\", \n",
    "                       names=[\"Padding\", \"Sample\", \"Num of var\", \"Var missing compared to 300-600\"])"
   ]
  },
  {
   "cell_type": "code",
   "execution_count": 69,
   "metadata": {},
   "outputs": [
    {
     "data": {
      "text/plain": [
       "0                                                   NaN\n",
       "1      4 3_prime_UTR_variant 13 downstream_gene_vari...\n",
       "2      4 3_prime_UTR_variant 1 disruptive_inframe_in...\n",
       "3      11 3_prime_UTR_variant 1 5_prime_UTR_prematur...\n",
       "4                                                   NaN\n",
       "5      4 3_prime_UTR_variant 1 5_prime_UTR_variant 1...\n",
       "6      6 3_prime_UTR_variant 1 5_prime_UTR_variant 3...\n",
       "7      20 3_prime_UTR_variant 5 5_prime_UTR_variant ...\n",
       "8                                                   NaN\n",
       "9      1 3_prime_UTR_variant 1 conservative_inframe_...\n",
       "10     2 3_prime_UTR_variant 1 conservative_inframe_...\n",
       "11     4 3_prime_UTR_variant 1 conservative_inframe_...\n",
       "12                                                  NaN\n",
       "13     1 5_prime_UTR_variant 3 downstream_gene_varia...\n",
       "14     1 5_prime_UTR_variant 16 downstream_gene_vari...\n",
       "15     2 3_prime_UTR_variant 2 5_prime_UTR_variant 1...\n",
       "16                                                  NaN\n",
       "17     2 3_prime_UTR_variant 16 downstream_gene_vari...\n",
       "18     3 3_prime_UTR_variant 21 downstream_gene_vari...\n",
       "19     3 3_prime_UTR_variant 21 downstream_gene_vari...\n",
       "Name: Var missing compared to 300-600, dtype: object"
      ]
     },
     "execution_count": 69,
     "metadata": {},
     "output_type": "execute_result"
    }
   ],
   "source": [
    "vcfcalls[\"Var missing compared to 300-600\"]"
   ]
  },
  {
   "cell_type": "code",
   "execution_count": null,
   "metadata": {},
   "outputs": [],
   "source": []
  }
 ],
 "metadata": {
  "kernelspec": {
   "display_name": "Python 3",
   "language": "python",
   "name": "python3"
  },
  "language_info": {
   "codemirror_mode": {
    "name": "ipython",
    "version": 3
   },
   "file_extension": ".py",
   "mimetype": "text/x-python",
   "name": "python",
   "nbconvert_exporter": "python",
   "pygments_lexer": "ipython3",
   "version": "3.7.6"
  }
 },
 "nbformat": 4,
 "nbformat_minor": 4
}
