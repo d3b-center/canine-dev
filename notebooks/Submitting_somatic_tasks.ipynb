{
 "cells": [
  {
   "cell_type": "markdown",
   "metadata": {},
   "source": [
    "#### Submitting Somatic SNV callers, Manta and CNVkit\n",
    "##### App used - `dev-canine-workflow/kfdrc-production-somatic-wgs-variant-sv-wf`"
   ]
  },
  {
   "cell_type": "markdown",
   "metadata": {},
   "source": [
    "1) Importing modules "
   ]
  },
  {
   "cell_type": "code",
   "execution_count": 69,
   "metadata": {},
   "outputs": [],
   "source": [
    "import sevenbridges as sbg\n",
    "import os\n",
    "from sevenbridges.http.error_handlers import rate_limit_sleeper, maintenance_sleeper\n",
    "api = sbg.Api(url='https://cavatica-api.sbgenomics.com/v2', token='<token_id>',\n",
    "        error_handlers=[rate_limit_sleeper, maintenance_sleeper])\n",
    "\n"
   ]
  },
  {
   "cell_type": "markdown",
   "metadata": {},
   "source": [
    "2) Defining task inputs used for all samples"
   ]
  },
  {
   "cell_type": "code",
   "execution_count": 79,
   "metadata": {},
   "outputs": [],
   "source": [
    "project=\"d3b-bixu/dev-canine-workflow\"\n",
    "app=\"d3b-bixu/dev-canine-workflow/kfdrc-production-somatic-wgs-variant-sv-wf\"\n",
    "\n",
    "ref = api.files.query(project=\"d3b-bixu/dev-canine-workflow\", names = [\"Canis_familiaris.CanFam3.1.dna.toplevel.fa\"])[0]\n",
    "ref_dict = api.files.query(project=\"d3b-bixu/dev-canine-workflow\", names = [\"Canis_familiaris.CanFam3.1.dna.toplevel.dict\"])[0]\n",
    "cnvkit_annotation_file = api.files.query(project=\"d3b-bixu/dev-canine-workflow\", names = [\"CanFam3_refFlat.txt\"])[0]\n",
    "lancet_bed = api.files.query(project=\"d3b-bixu/dev-canine-workflow\", names = [\"Canis_familiaris.CanFam3.1.86.exome.bed\"])[0]\n",
    "mutect2_af_vcf = api.files.query(project=\"d3b-bixu/dev-canine-workflow\", names = [\"92indsAEDPCDTaimyr.biallelic.up.sort.vcf.gz\"])[0]\n",
    "snpeff_db = api.files.query(project=\"d3b-bixu/dev-canine-workflow\", names = [\"snpEff_v4_3_CanFam3.1.86.zip\"])[0]\n",
    "strelka2_bed = api.files.query(project=\"d3b-bixu/dev-canine-workflow\", names = [\"Canis_WGS_withoutcontigs_withoutchrY.bed.gz\"])[0]\n",
    "wgs_calling_interval = api.files.query(project=\"d3b-bixu/dev-canine-workflow\", names = [\"Canis_WGS_withoutcontigs_withoutchrY.bed\"])[0]\n"
   ]
  },
  {
   "cell_type": "markdown",
   "metadata": {},
   "source": [
    "3) Defining sample specific variables using manifest, create `dict` as input and submit task using dict as input"
   ]
  },
  {
   "cell_type": "code",
   "execution_count": 92,
   "metadata": {},
   "outputs": [],
   "source": [
    "\n",
    "manifest = open(\"tumor_and_normal_manifest.csv\", \"r\")\n",
    "manifestlines = manifest.readlines()\n",
    "\n",
    "for line in manifestlines[1:]:\n",
    "    line=line.split()\n",
    "    normalbam = api.files.query(project=\"d3b-bixu/dev-canine-workflow\", names = [line[1]])[0]\n",
    "    tumorbam = api.files.query(project=\"d3b-bixu/dev-canine-workflow\", names = [line[5]])[0]\n",
    "    dict = {}\n",
    "    dict[\"cnvkit_annotation_file\"] = cnvkit_annotation_file\n",
    "    dict[\"indexed_reference_fasta\"]  = ref\n",
    "    dict[\"input_normal_aligned\"] = normalbam\n",
    "    dict[\"input_tumor_aligned\"] = tumorbam\n",
    "    dict[\"lancet_calling_interval_bed\"] = lancet_bed\n",
    "    dict[\"mutect2_af_only_gnomad_vcf\"] = mutect2_af_vcf\n",
    "    dict[\"mutect2_exac_common_vcf\"] = mutect2_af_vcf\n",
    "    dict[\"reference_dict\"]  = ref_dict\n",
    "    dict[\"snpeff_database\"] = snpeff_db\n",
    "    dict[\"strelka2_bed\"] = strelka2_bed\n",
    "    dict[\"wgs_calling_interval_list\"] = wgs_calling_interval\n",
    "    dict[\"cnvkit_sex\"] = line[2]\n",
    "    dict[\"cnvkit_wgs_mode\"] = \"Y\"\n",
    "    dict[\"exome_flag\"] = \"N\"\n",
    "    dict[\"input_normal_name\"] = line[8]\n",
    "    dict[\"input_tumor_name\"] = line[9]\n",
    "    dict[\"snpeff_genomeversion\"] = \"CanFam3.1.86\"\n",
    "    dict[\"lancet_padding\"] = 300\n",
    "    dict[\"lancet_window\"] = 600\n",
    "    dict[\"select_vars_mode\"] = \"gatk\"\n",
    "    dict[\"vardict_padding\"] = 150\n",
    "    name =  \"Somatic_callers_manta_cnvkit_\"+line[0]\n",
    "    task = api.tasks.create(name=name, project=project, app=app, inputs=dict, run=False)\n",
    "    task.inputs['output_basename'] = task.id\n",
    "    task.save()"
   ]
  },
  {
   "cell_type": "code",
   "execution_count": null,
   "metadata": {},
   "outputs": [],
   "source": []
  }
 ],
 "metadata": {
  "kernelspec": {
   "display_name": "Python 3",
   "language": "python",
   "name": "python3"
  },
  "language_info": {
   "codemirror_mode": {
    "name": "ipython",
    "version": 3
   },
   "file_extension": ".py",
   "mimetype": "text/x-python",
   "name": "python",
   "nbconvert_exporter": "python",
   "pygments_lexer": "ipython3",
   "version": "3.6.3"
  }
 },
 "nbformat": 4,
 "nbformat_minor": 2
}
