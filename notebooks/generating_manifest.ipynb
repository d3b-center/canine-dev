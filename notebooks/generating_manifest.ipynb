{
 "cells": [
  {
   "cell_type": "markdown",
   "metadata": {},
   "source": [
    "### Creating manifest file with tumor and normal samples \n",
    "\n",
    "1. Download manifest with normal BAM files\n",
    "2. Download manifest with tumor BAM files \n",
    "3. Choose only `normal_name, gender, normal_Kids_First_Participant_ID, normal_Kids_First_Biospecimen and case_id` as columns in normal manifest (Named file as `normal_manifest.csv`)\n",
    "4. Choose only `tumor_name, tumor_Kids_First_Participant_ID, tumor_Kids_First_Biospecimen_ID, case_id` from tumor manifest(named file as `tumor_mianfest.csv`)\n"
   ]
  },
  {
   "cell_type": "code",
   "execution_count": null,
   "metadata": {},
   "outputs": [],
   "source": [
    "import pandas as pd  # importing pandas module"
   ]
  },
  {
   "cell_type": "code",
   "execution_count": 54,
   "metadata": {},
   "outputs": [],
   "source": [
    "# Reading in both tumor and normal manifets separately\n",
    "tumor = pd.read_csv(\"tumor_mianfest.csv\", sep=\"\\t\")\n",
    "normal = pd.read_csv(\"normal_manifest.csv\", sep=\"\\t\")\n",
    "\n",
    "# Setting indexes so concat will work, case_id should be the same in normal and tumor \n",
    "normal = normal.set_index(\"case_id\")\n",
    "tumor = tumor.set_index(\"case_id\")\n",
    "\n",
    "# Concatenating tumor and normal manifests using case_id as index \n",
    "outwithoutreadnames = pd.concat([normal, tumor], axis=1).reset_index()\n",
    "\n",
    "\n",
    "## Adding two columns for readnames \n",
    "## Get readnames from \"grep for SM from SAM headers\"\n",
    "outwithoutreadnames[\"normal_readnames\"] = outwithoutreadnames.apply(lambda x:x[\"index\"]+\"_1_PB_Whole_C3_KHWGS\", axis=1)\n",
    "outwithoutreadnames[\"tumor_readnames\"] = outwithoutreadnames.apply(lambda x:x[\"index\"]+\"_1_BR_Whole_T2_KHWGS\", axis=1)\n",
    "\n",
    "## Writing final  to output file\n",
    "outwithoutreadnames.to_csv(\"tumor_and_normal_manifest.csv\", sep=\"\\t\", index=False)\n"
   ]
  },
  {
   "cell_type": "code",
   "execution_count": 63,
   "metadata": {},
   "outputs": [
    {
     "name": "stdout",
     "output_type": "stream",
     "text": [
      "Index(['Tumor manifest column headers:tumor_name',\n",
      "       'Tumor manifest column headers:tumor_Kids_First_Participant_ID',\n",
      "       'Tumor manifest column headers:tumor_Kids_First_Biospecimen_ID'],\n",
      "      dtype='object')\n",
      "Index(['Normal manifest column headers:normal_name',\n",
      "       'Normal manifest column headers:gender',\n",
      "       'Normal manifest column headers:normal_Kids_First_Participant_ID',\n",
      "       'Normal manifest column headers:normal_Kids_First_Biospecimen ID'],\n",
      "      dtype='object')\n"
     ]
    }
   ],
   "source": [
    "# Showing  dataframe headers\n",
    "print(\"Tumor manifest column headers:\"+tumor.columns)\n",
    "print(\"Normal manifest column headers:\"+normal.columns)\n"
   ]
  },
  {
   "cell_type": "code",
   "execution_count": null,
   "metadata": {},
   "outputs": [],
   "source": []
  }
 ],
 "metadata": {
  "kernelspec": {
   "display_name": "Python 3",
   "language": "python",
   "name": "python3"
  },
  "language_info": {
   "codemirror_mode": {
    "name": "ipython",
    "version": 3
   },
   "file_extension": ".py",
   "mimetype": "text/x-python",
   "name": "python",
   "nbconvert_exporter": "python",
   "pygments_lexer": "ipython3",
   "version": "3.6.3"
  }
 },
 "nbformat": 4,
 "nbformat_minor": 2
}
